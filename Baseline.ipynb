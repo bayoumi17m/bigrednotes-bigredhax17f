{
 "cells": [
  {
   "cell_type": "code",
   "execution_count": 1,
   "metadata": {},
   "outputs": [
    {
     "name": "stderr",
     "output_type": "stream",
     "text": [
      "Using Theano backend.\n"
     ]
    }
   ],
   "source": [
    "import pandas as pd\n",
    "import os\n",
    "os.environ['KERAS_BACKEND']='theano'\n",
    "\n",
    "from keras.preprocessing.text import Tokenizer\n",
    "from keras.preprocessing.sequence import pad_sequences\n",
    "from keras.utils.np_utils import to_categorical\n",
    "\n",
    "from keras.layers import Embedding, concatenate\n",
    "from keras.layers import Dense, Input, Flatten\n",
    "from keras.layers import Conv1D, MaxPooling1D, Embedding, Merge, Dropout\n",
    "from keras.models import Model\n",
    "\n",
    "from keras.callbacks import ModelCheckpoint\n",
    "\n",
    "import numpy as np\n",
    "import pickle"
   ]
  },
  {
   "cell_type": "code",
   "execution_count": 2,
   "metadata": {
    "collapsed": true
   },
   "outputs": [],
   "source": [
    "data = pd.read_csv('../data/youtube_relevance_labelling.csv')"
   ]
  },
  {
   "cell_type": "code",
   "execution_count": 3,
   "metadata": {},
   "outputs": [
    {
     "data": {
      "text/html": [
       "<div>\n",
       "<style>\n",
       "    .dataframe thead tr:only-child th {\n",
       "        text-align: right;\n",
       "    }\n",
       "\n",
       "    .dataframe thead th {\n",
       "        text-align: left;\n",
       "    }\n",
       "\n",
       "    .dataframe tbody tr th {\n",
       "        vertical-align: top;\n",
       "    }\n",
       "</style>\n",
       "<table border=\"1\" class=\"dataframe\">\n",
       "  <thead>\n",
       "    <tr style=\"text-align: right;\">\n",
       "      <th></th>\n",
       "      <th>query</th>\n",
       "      <th>title</th>\n",
       "      <th>description</th>\n",
       "      <th>id</th>\n",
       "      <th>Label</th>\n",
       "    </tr>\n",
       "  </thead>\n",
       "  <tbody>\n",
       "    <tr>\n",
       "      <th>0</th>\n",
       "      <td>Algebra videos</td>\n",
       "      <td>Algebra Introduction - Basic Overview - Online...</td>\n",
       "      <td>This math video tutorial provides a basic over...</td>\n",
       "      <td>grnP3mduZkM</td>\n",
       "      <td>1</td>\n",
       "    </tr>\n",
       "    <tr>\n",
       "      <th>1</th>\n",
       "      <td>Algebra videos</td>\n",
       "      <td>Algebra Basics: What Is Algebra? - Math Antics</td>\n",
       "      <td>This video gives an overview of Algebra and in...</td>\n",
       "      <td>NybHckSEQBI</td>\n",
       "      <td>1</td>\n",
       "    </tr>\n",
       "    <tr>\n",
       "      <th>2</th>\n",
       "      <td>Algebra videos</td>\n",
       "      <td>Quick Math Review to Prep for Algebra 1</td>\n",
       "      <td>This is 1 of 4 videos I custom made for an edu...</td>\n",
       "      <td>6KtQrCP01OE</td>\n",
       "      <td>1</td>\n",
       "    </tr>\n",
       "    <tr>\n",
       "      <th>3</th>\n",
       "      <td>Algebra videos</td>\n",
       "      <td>Algebra - Completing the square</td>\n",
       "      <td>Hi Algebrinos! As we progress with our problem...</td>\n",
       "      <td>DJMH2F3GuIc</td>\n",
       "      <td>0</td>\n",
       "    </tr>\n",
       "    <tr>\n",
       "      <th>4</th>\n",
       "      <td>Algebra videos</td>\n",
       "      <td>Algebra Basics: Solving Basic Equations Part 1...</td>\n",
       "      <td>This video shows students how to solve simple ...</td>\n",
       "      <td>l3XzepN03KQ</td>\n",
       "      <td>0</td>\n",
       "    </tr>\n",
       "    <tr>\n",
       "      <th>5</th>\n",
       "      <td>Algebra videos</td>\n",
       "      <td>Algebra Basics: What Are Polynomials? - Math A...</td>\n",
       "      <td>This video introduces students to polynomials ...</td>\n",
       "      <td>ffLLmV4mZwU</td>\n",
       "      <td>0</td>\n",
       "    </tr>\n",
       "    <tr>\n",
       "      <th>6</th>\n",
       "      <td>Algebra videos</td>\n",
       "      <td>Basic Algebra Lessons for Beginners 😊 (P1) -- ...</td>\n",
       "      <td>Master Algebra the easiest way without even Le...</td>\n",
       "      <td>V3dFHt9p5W8</td>\n",
       "      <td>1</td>\n",
       "    </tr>\n",
       "    <tr>\n",
       "      <th>7</th>\n",
       "      <td>Algebra videos</td>\n",
       "      <td>Algebra Basics: The Distributive Property - Ma...</td>\n",
       "      <td>This video introduces the Distributive Propert...</td>\n",
       "      <td>v-6MShC82ow</td>\n",
       "      <td>0</td>\n",
       "    </tr>\n",
       "    <tr>\n",
       "      <th>8</th>\n",
       "      <td>Algebra videos</td>\n",
       "      <td>Algebra 25 - Linear Equations in the Real World</td>\n",
       "      <td>Linear equations can be used to solve many typ...</td>\n",
       "      <td>8eXb-6wQUks</td>\n",
       "      <td>1</td>\n",
       "    </tr>\n",
       "    <tr>\n",
       "      <th>9</th>\n",
       "      <td>What are some SAT math hacks?</td>\n",
       "      <td>SAT Math Hacks: Tips and Tricks to Destroy the...</td>\n",
       "      <td>Hack your way to a better score on the Math se...</td>\n",
       "      <td>Rqmtjl_c-uo</td>\n",
       "      <td>1</td>\n",
       "    </tr>\n",
       "    <tr>\n",
       "      <th>10</th>\n",
       "      <td>What are some SAT math hacks?</td>\n",
       "      <td>SAT Algebra Hack: Combining Like Terms</td>\n",
       "      <td>SAT: Study and Triumph | Being able to simplif...</td>\n",
       "      <td>xfEyUWwZTIA</td>\n",
       "      <td>0</td>\n",
       "    </tr>\n",
       "    <tr>\n",
       "      <th>11</th>\n",
       "      <td>What are some SAT math hacks?</td>\n",
       "      <td>Calculator Tricks to Use on the SAT</td>\n",
       "      <td>SAT: Study and Triumph | The calculator is all...</td>\n",
       "      <td>lt2iVVMhHPc</td>\n",
       "      <td>1</td>\n",
       "    </tr>\n",
       "    <tr>\n",
       "      <th>12</th>\n",
       "      <td>What are some SAT math hacks?</td>\n",
       "      <td>SAT Math Tips, Tricks and Strategies - Part I</td>\n",
       "      <td>SAT Math Prep, Tricks, Strategies and Tips htt...</td>\n",
       "      <td>SloQxSB0eIM</td>\n",
       "      <td>1</td>\n",
       "    </tr>\n",
       "    <tr>\n",
       "      <th>13</th>\n",
       "      <td>What are some SAT math hacks?</td>\n",
       "      <td>SAT Algebra Hack: Just Multiply by 1</td>\n",
       "      <td>SAT: Study and Triumph | You may know that the...</td>\n",
       "      <td>0mxPVCeB6m4</td>\n",
       "      <td>0</td>\n",
       "    </tr>\n",
       "    <tr>\n",
       "      <th>14</th>\n",
       "      <td>What are some SAT math hacks?</td>\n",
       "      <td>5 ACT Math Hacks!! Best Tips, Tricks, &amp; Strate...</td>\n",
       "      <td>Studying for the upcoming ACT exam? Click here...</td>\n",
       "      <td>mHX9yKFBQsM</td>\n",
       "      <td>0</td>\n",
       "    </tr>\n",
       "    <tr>\n",
       "      <th>15</th>\n",
       "      <td>What are some SAT math hacks?</td>\n",
       "      <td>How to CRAM for the NEW SAT!! Tips, Tricks, an...</td>\n",
       "      <td>Looking for last minute SAT test tips? Procras...</td>\n",
       "      <td>hxwv_BHABAE</td>\n",
       "      <td>0</td>\n",
       "    </tr>\n",
       "    <tr>\n",
       "      <th>16</th>\n",
       "      <td>What are some SAT math hacks?</td>\n",
       "      <td>SAT Calculator Hacks: TI-84 Tips &amp; Tricks</td>\n",
       "      <td>Looking for a quick way to improve your SAT ma...</td>\n",
       "      <td>jxNuBiCeSGk</td>\n",
       "      <td>1</td>\n",
       "    </tr>\n",
       "    <tr>\n",
       "      <th>17</th>\n",
       "      <td>What are some SAT math hacks?</td>\n",
       "      <td>3 SAT Math Strategies to Raise Your SAT Score</td>\n",
       "      <td>Learn the top three SAT math strategies to rai...</td>\n",
       "      <td>pXFrzULJc7Y</td>\n",
       "      <td>1</td>\n",
       "    </tr>\n",
       "    <tr>\n",
       "      <th>18</th>\n",
       "      <td>What are some SAT math hacks?</td>\n",
       "      <td>3 Ways To Cheat On Any Test!!!</td>\n",
       "      <td>The following are 3 simple tricks you can do t...</td>\n",
       "      <td>N9BhVTRDPVc</td>\n",
       "      <td>0</td>\n",
       "    </tr>\n",
       "    <tr>\n",
       "      <th>19</th>\n",
       "      <td>I want to learn to solve complicated equations</td>\n",
       "      <td>Algebra Shortcut Trick  - how to solve equatio...</td>\n",
       "      <td>Solve algebra equations easily with no problem...</td>\n",
       "      <td>3H7385duSpA</td>\n",
       "      <td>0</td>\n",
       "    </tr>\n",
       "    <tr>\n",
       "      <th>20</th>\n",
       "      <td>I want to learn to solve complicated equations</td>\n",
       "      <td>Solving a more complicated equation | Linear e...</td>\n",
       "      <td>This example demonstrates how we solve an equa...</td>\n",
       "      <td>XoEn1LfVoTo</td>\n",
       "      <td>1</td>\n",
       "    </tr>\n",
       "    <tr>\n",
       "      <th>21</th>\n",
       "      <td>I want to learn to solve complicated equations</td>\n",
       "      <td>Algebra - Solving Systems of Equations - Elimi...</td>\n",
       "      <td>To \"eliminate\" may make you think of the Termi...</td>\n",
       "      <td>tphSgpilNv8</td>\n",
       "      <td>0</td>\n",
       "    </tr>\n",
       "    <tr>\n",
       "      <th>22</th>\n",
       "      <td>I want to learn to solve complicated equations</td>\n",
       "      <td>How To Solve Any Physics Problem</td>\n",
       "      <td>Learn five simple steps in five minutes! In th...</td>\n",
       "      <td>YocWuzi4JhY</td>\n",
       "      <td>0</td>\n",
       "    </tr>\n",
       "    <tr>\n",
       "      <th>23</th>\n",
       "      <td>I want to learn to solve complicated equations</td>\n",
       "      <td>Understanding steps when solving equations | L...</td>\n",
       "      <td>Practice this lesson yourself on KhanAcademy.o...</td>\n",
       "      <td>LzYJVsvqS50</td>\n",
       "      <td>0</td>\n",
       "    </tr>\n",
       "    <tr>\n",
       "      <th>24</th>\n",
       "      <td>I want to learn to solve complicated equations</td>\n",
       "      <td>Algebra Basics: Solving Basic Equations Part 2...</td>\n",
       "      <td>This video shows students how to solve simple ...</td>\n",
       "      <td>Qyd_v3DGzTM</td>\n",
       "      <td>0</td>\n",
       "    </tr>\n",
       "    <tr>\n",
       "      <th>25</th>\n",
       "      <td>I want to learn to solve complicated equations</td>\n",
       "      <td>Algebra Basics: Solving Basic Equations Part 1...</td>\n",
       "      <td>This video shows students how to solve simple ...</td>\n",
       "      <td>l3XzepN03KQ</td>\n",
       "      <td>0</td>\n",
       "    </tr>\n",
       "    <tr>\n",
       "      <th>26</th>\n",
       "      <td>I want to learn to solve complicated equations</td>\n",
       "      <td>How to Solve a Formula Equation</td>\n",
       "      <td>TabletClass Math http://www.tabletclass.com co...</td>\n",
       "      <td>Abi-3-_EItI</td>\n",
       "      <td>0</td>\n",
       "    </tr>\n",
       "    <tr>\n",
       "      <th>27</th>\n",
       "      <td>I want to learn to solve complicated equations</td>\n",
       "      <td>Introduction to solving an equation with varia...</td>\n",
       "      <td>Sal solves the equation 2x + 3 = 5x - 2. Pract...</td>\n",
       "      <td>f15zA0PhSek</td>\n",
       "      <td>1</td>\n",
       "    </tr>\n",
       "    <tr>\n",
       "      <th>28</th>\n",
       "      <td>I want to learn to solve complicated equations</td>\n",
       "      <td>Algebra: Linear equations 1 | Linear equations...</td>\n",
       "      <td>Equations of the form AX=B Watch the next less...</td>\n",
       "      <td>bAerID24QJ0</td>\n",
       "      <td>0</td>\n",
       "    </tr>\n",
       "    <tr>\n",
       "      <th>29</th>\n",
       "      <td>What do I need to know about geometry for SAT ...</td>\n",
       "      <td>9 - SAT Math Review: Geometry</td>\n",
       "      <td>Use promo code: \"YouTubeGuru\" for 10% off your...</td>\n",
       "      <td>Vktpqe-OST8</td>\n",
       "      <td>1</td>\n",
       "    </tr>\n",
       "    <tr>\n",
       "      <th>...</th>\n",
       "      <td>...</td>\n",
       "      <td>...</td>\n",
       "      <td>...</td>\n",
       "      <td>...</td>\n",
       "      <td>...</td>\n",
       "    </tr>\n",
       "    <tr>\n",
       "      <th>536</th>\n",
       "      <td>plot graph for polynomial factors</td>\n",
       "      <td>Polynomial Functions Graphing - Multiplicity, ...</td>\n",
       "      <td>This algebra 2 and precalculus video tutorial ...</td>\n",
       "      <td>q6vgQEZuNKk</td>\n",
       "      <td>1</td>\n",
       "    </tr>\n",
       "    <tr>\n",
       "      <th>537</th>\n",
       "      <td>plot graph for polynomial factors</td>\n",
       "      <td>Polynomial Graphs Part 1</td>\n",
       "      <td>I introduce polynomial functions and give exam...</td>\n",
       "      <td>of2OG5NNNIo</td>\n",
       "      <td>1</td>\n",
       "    </tr>\n",
       "    <tr>\n",
       "      <th>538</th>\n",
       "      <td>plot graph for polynomial factors</td>\n",
       "      <td>sketch the graph of polynomials using zeros, e...</td>\n",
       "      <td>NaN</td>\n",
       "      <td>VSP32ns3Ez4</td>\n",
       "      <td>1</td>\n",
       "    </tr>\n",
       "    <tr>\n",
       "      <th>539</th>\n",
       "      <td>plot graph for polynomial factors</td>\n",
       "      <td>Understanding Repeated Roots (Polynomials)</td>\n",
       "      <td>This video follows from \"Graphing ~ Polynomial...</td>\n",
       "      <td>honyxJPl0-0</td>\n",
       "      <td>1</td>\n",
       "    </tr>\n",
       "    <tr>\n",
       "      <th>540</th>\n",
       "      <td>plot graph for polynomial factors</td>\n",
       "      <td>How to Graph a Polynomial</td>\n",
       "      <td>TabletClass Math http://www.tabletclass.com co...</td>\n",
       "      <td>b1u6DM2UhZ8</td>\n",
       "      <td>1</td>\n",
       "    </tr>\n",
       "    <tr>\n",
       "      <th>541</th>\n",
       "      <td>plot graph for polynomial factors</td>\n",
       "      <td>Graphing the polynomial function f(x)=x^3-x^2-6x</td>\n",
       "      <td>This video shows an example of graphing a poly...</td>\n",
       "      <td>Op3OP_fHrRE</td>\n",
       "      <td>1</td>\n",
       "    </tr>\n",
       "    <tr>\n",
       "      <th>542</th>\n",
       "      <td>plot graph for polynomial factors</td>\n",
       "      <td>Factoring 5th degree polynomial to find real z...</td>\n",
       "      <td>Watch the next lesson: ...</td>\n",
       "      <td>mekBhhFWC9c</td>\n",
       "      <td>1</td>\n",
       "    </tr>\n",
       "    <tr>\n",
       "      <th>543</th>\n",
       "      <td>plot graph for polynomial factors</td>\n",
       "      <td>Pre-Calculus - Graphing a polynomial function</td>\n",
       "      <td>This video covers how to sketch a graph of a p...</td>\n",
       "      <td>en2ctMSVNEI</td>\n",
       "      <td>1</td>\n",
       "    </tr>\n",
       "    <tr>\n",
       "      <th>544</th>\n",
       "      <td>plot graph for polynomial factors</td>\n",
       "      <td>How to Find the Equations of a Polynomial Func...</td>\n",
       "      <td>Review How to Find the Equations of a Polynomi...</td>\n",
       "      <td>Mp55wMhgHtM</td>\n",
       "      <td>0</td>\n",
       "    </tr>\n",
       "    <tr>\n",
       "      <th>545</th>\n",
       "      <td>plot graph for polynomial factors</td>\n",
       "      <td>Ex:  Solve a Polynomial Equation Using a Graph...</td>\n",
       "      <td>This video explains how a ti84 or ti83 can be ...</td>\n",
       "      <td>CJ-bVSwEhqw</td>\n",
       "      <td>0</td>\n",
       "    </tr>\n",
       "    <tr>\n",
       "      <th>546</th>\n",
       "      <td>manipulate quadratic equation</td>\n",
       "      <td>Manipulating and solving a quadratic equation</td>\n",
       "      <td>Solving a quadratic equation needing simplific...</td>\n",
       "      <td>jsNlS9AlH-U</td>\n",
       "      <td>1</td>\n",
       "    </tr>\n",
       "    <tr>\n",
       "      <th>547</th>\n",
       "      <td>manipulate quadratic equation</td>\n",
       "      <td>Algebra - Quadratic Functions (Parabolas)</td>\n",
       "      <td>This lesson includes the basics of graphing th...</td>\n",
       "      <td>nLVwpHXGgX0</td>\n",
       "      <td>0</td>\n",
       "    </tr>\n",
       "    <tr>\n",
       "      <th>548</th>\n",
       "      <td>manipulate quadratic equation</td>\n",
       "      <td>❤︎² How to Solve Quadratic Equations by Factor...</td>\n",
       "      <td>MIT grad shows how to solve any quadratic equa...</td>\n",
       "      <td>IKyUuvulIbk</td>\n",
       "      <td>1</td>\n",
       "    </tr>\n",
       "    <tr>\n",
       "      <th>549</th>\n",
       "      <td>manipulate quadratic equation</td>\n",
       "      <td>Manipulating the Roots of a Quadratic</td>\n",
       "      <td>More resources available at www.misterwootube....</td>\n",
       "      <td>elzZTsZHxEE</td>\n",
       "      <td>1</td>\n",
       "    </tr>\n",
       "    <tr>\n",
       "      <th>550</th>\n",
       "      <td>manipulate quadratic equation</td>\n",
       "      <td>Solving Equilibrium Problems with the Quadrati...</td>\n",
       "      <td>Having problems with chemical equilibrium and ...</td>\n",
       "      <td>wDyZrIu6MzA</td>\n",
       "      <td>0</td>\n",
       "    </tr>\n",
       "    <tr>\n",
       "      <th>551</th>\n",
       "      <td>manipulate quadratic equation</td>\n",
       "      <td>Manipulating Linear, Quadratic &amp; Cubic Identities</td>\n",
       "      <td>NaN</td>\n",
       "      <td>-BO-qDbAQqA</td>\n",
       "      <td>1</td>\n",
       "    </tr>\n",
       "    <tr>\n",
       "      <th>552</th>\n",
       "      <td>manipulate quadratic equation</td>\n",
       "      <td>SAT Khan Academy Solving Manipulating Quadrati...</td>\n",
       "      <td>Watch me solve Manipulating Quadratic and Expo...</td>\n",
       "      <td>e8K2kiTGYu8</td>\n",
       "      <td>1</td>\n",
       "    </tr>\n",
       "    <tr>\n",
       "      <th>553</th>\n",
       "      <td>manipulate quadratic equation</td>\n",
       "      <td>Quadratic Formula – How to derive the quadrati...</td>\n",
       "      <td>This video will teach you how to derive the qu...</td>\n",
       "      <td>ccQjkBQ44aY</td>\n",
       "      <td>0</td>\n",
       "    </tr>\n",
       "    <tr>\n",
       "      <th>554</th>\n",
       "      <td>manipulate quadratic equation</td>\n",
       "      <td>Solving a Quadratic-Quadratic system using Eli...</td>\n",
       "      <td>NaN</td>\n",
       "      <td>sTEPKLWo4ew</td>\n",
       "      <td>0</td>\n",
       "    </tr>\n",
       "    <tr>\n",
       "      <th>555</th>\n",
       "      <td>manipulate quadratic equation</td>\n",
       "      <td>How to Manipulate an Equation to Solve Using t...</td>\n",
       "      <td>Subscribe for new videos: https://www.youtube....</td>\n",
       "      <td>Itcd0ZcXubY</td>\n",
       "      <td>1</td>\n",
       "    </tr>\n",
       "    <tr>\n",
       "      <th>556</th>\n",
       "      <td>roots of quadratic equation formula explain</td>\n",
       "      <td>Solve Quadratic Equations using Quadratic Formula</td>\n",
       "      <td>Visit http://MathMeeting.com for Free videos o...</td>\n",
       "      <td>3ayhvAI3IeY</td>\n",
       "      <td>1</td>\n",
       "    </tr>\n",
       "    <tr>\n",
       "      <th>557</th>\n",
       "      <td>roots of quadratic equation formula explain</td>\n",
       "      <td>Find Roots of Quadratic Equation Using Quadrat...</td>\n",
       "      <td>Learn how to find roots of quadratic equation ...</td>\n",
       "      <td>dPFFAeSExIs</td>\n",
       "      <td>0</td>\n",
       "    </tr>\n",
       "    <tr>\n",
       "      <th>558</th>\n",
       "      <td>roots of quadratic equation formula explain</td>\n",
       "      <td>How To Find The Nature Of The Roots Of Quadrat...</td>\n",
       "      <td>Let's learn how to find the nature of the root...</td>\n",
       "      <td>f9hvtx8k1Rk</td>\n",
       "      <td>0</td>\n",
       "    </tr>\n",
       "    <tr>\n",
       "      <th>559</th>\n",
       "      <td>roots of quadratic equation formula explain</td>\n",
       "      <td>How to use the quadratic formula | Polynomial ...</td>\n",
       "      <td>Introduction to using the quadratic formula. P...</td>\n",
       "      <td>i7idZfS8t8w</td>\n",
       "      <td>1</td>\n",
       "    </tr>\n",
       "    <tr>\n",
       "      <th>560</th>\n",
       "      <td>roots of quadratic equation formula explain</td>\n",
       "      <td>Deriving the Quadratic Formula</td>\n",
       "      <td>Many people know how to use the quadratic form...</td>\n",
       "      <td>DdUx_7B00kM</td>\n",
       "      <td>1</td>\n",
       "    </tr>\n",
       "    <tr>\n",
       "      <th>561</th>\n",
       "      <td>roots of quadratic equation formula explain</td>\n",
       "      <td>Discriminant of quadratic equations | Polynomi...</td>\n",
       "      <td>Discriminant of Quadratic Equations Practice t...</td>\n",
       "      <td>JBSDQLZtjFo</td>\n",
       "      <td>1</td>\n",
       "    </tr>\n",
       "    <tr>\n",
       "      <th>562</th>\n",
       "      <td>roots of quadratic equation formula explain</td>\n",
       "      <td>The Quadratic Formula: How to Use the Discrimi...</td>\n",
       "      <td>Mahalo math expert Allison Moffett shows you h...</td>\n",
       "      <td>tGH0xcT8q90</td>\n",
       "      <td>1</td>\n",
       "    </tr>\n",
       "    <tr>\n",
       "      <th>563</th>\n",
       "      <td>roots of quadratic equation formula explain</td>\n",
       "      <td>Relationship between roots and coefficients of...</td>\n",
       "      <td>Go to http://www.examsolutions.net/ for the in...</td>\n",
       "      <td>Iy6WBgm_2us</td>\n",
       "      <td>1</td>\n",
       "    </tr>\n",
       "    <tr>\n",
       "      <th>564</th>\n",
       "      <td>roots of quadratic equation formula explain</td>\n",
       "      <td>Example: Complex roots for a quadratic | Algeb...</td>\n",
       "      <td>Complex Roots from the Quadratic Formula Pract...</td>\n",
       "      <td>dnjK4DPqh0k</td>\n",
       "      <td>0</td>\n",
       "    </tr>\n",
       "    <tr>\n",
       "      <th>565</th>\n",
       "      <td>roots of quadratic equation formula explain</td>\n",
       "      <td>Quadratic formula (proof) | Quadratic equation...</td>\n",
       "      <td>Deriving the quadratic formula by completing t...</td>\n",
       "      <td>mDmRYfma9C0</td>\n",
       "      <td>1</td>\n",
       "    </tr>\n",
       "  </tbody>\n",
       "</table>\n",
       "<p>566 rows × 5 columns</p>\n",
       "</div>"
      ],
      "text/plain": [
       "                                                 query  \\\n",
       "0                                       Algebra videos   \n",
       "1                                       Algebra videos   \n",
       "2                                       Algebra videos   \n",
       "3                                       Algebra videos   \n",
       "4                                       Algebra videos   \n",
       "5                                       Algebra videos   \n",
       "6                                       Algebra videos   \n",
       "7                                       Algebra videos   \n",
       "8                                       Algebra videos   \n",
       "9                        What are some SAT math hacks?   \n",
       "10                       What are some SAT math hacks?   \n",
       "11                       What are some SAT math hacks?   \n",
       "12                       What are some SAT math hacks?   \n",
       "13                       What are some SAT math hacks?   \n",
       "14                       What are some SAT math hacks?   \n",
       "15                       What are some SAT math hacks?   \n",
       "16                       What are some SAT math hacks?   \n",
       "17                       What are some SAT math hacks?   \n",
       "18                       What are some SAT math hacks?   \n",
       "19      I want to learn to solve complicated equations   \n",
       "20      I want to learn to solve complicated equations   \n",
       "21      I want to learn to solve complicated equations   \n",
       "22      I want to learn to solve complicated equations   \n",
       "23      I want to learn to solve complicated equations   \n",
       "24      I want to learn to solve complicated equations   \n",
       "25      I want to learn to solve complicated equations   \n",
       "26      I want to learn to solve complicated equations   \n",
       "27      I want to learn to solve complicated equations   \n",
       "28      I want to learn to solve complicated equations   \n",
       "29   What do I need to know about geometry for SAT ...   \n",
       "..                                                 ...   \n",
       "536                  plot graph for polynomial factors   \n",
       "537                  plot graph for polynomial factors   \n",
       "538                  plot graph for polynomial factors   \n",
       "539                  plot graph for polynomial factors   \n",
       "540                  plot graph for polynomial factors   \n",
       "541                  plot graph for polynomial factors   \n",
       "542                  plot graph for polynomial factors   \n",
       "543                  plot graph for polynomial factors   \n",
       "544                  plot graph for polynomial factors   \n",
       "545                  plot graph for polynomial factors   \n",
       "546                      manipulate quadratic equation   \n",
       "547                      manipulate quadratic equation   \n",
       "548                      manipulate quadratic equation   \n",
       "549                      manipulate quadratic equation   \n",
       "550                      manipulate quadratic equation   \n",
       "551                      manipulate quadratic equation   \n",
       "552                      manipulate quadratic equation   \n",
       "553                      manipulate quadratic equation   \n",
       "554                      manipulate quadratic equation   \n",
       "555                      manipulate quadratic equation   \n",
       "556        roots of quadratic equation formula explain   \n",
       "557        roots of quadratic equation formula explain   \n",
       "558        roots of quadratic equation formula explain   \n",
       "559        roots of quadratic equation formula explain   \n",
       "560        roots of quadratic equation formula explain   \n",
       "561        roots of quadratic equation formula explain   \n",
       "562        roots of quadratic equation formula explain   \n",
       "563        roots of quadratic equation formula explain   \n",
       "564        roots of quadratic equation formula explain   \n",
       "565        roots of quadratic equation formula explain   \n",
       "\n",
       "                                                 title  \\\n",
       "0    Algebra Introduction - Basic Overview - Online...   \n",
       "1       Algebra Basics: What Is Algebra? - Math Antics   \n",
       "2              Quick Math Review to Prep for Algebra 1   \n",
       "3                      Algebra - Completing the square   \n",
       "4    Algebra Basics: Solving Basic Equations Part 1...   \n",
       "5    Algebra Basics: What Are Polynomials? - Math A...   \n",
       "6    Basic Algebra Lessons for Beginners 😊 (P1) -- ...   \n",
       "7    Algebra Basics: The Distributive Property - Ma...   \n",
       "8      Algebra 25 - Linear Equations in the Real World   \n",
       "9    SAT Math Hacks: Tips and Tricks to Destroy the...   \n",
       "10              SAT Algebra Hack: Combining Like Terms   \n",
       "11                 Calculator Tricks to Use on the SAT   \n",
       "12       SAT Math Tips, Tricks and Strategies - Part I   \n",
       "13                SAT Algebra Hack: Just Multiply by 1   \n",
       "14   5 ACT Math Hacks!! Best Tips, Tricks, & Strate...   \n",
       "15   How to CRAM for the NEW SAT!! Tips, Tricks, an...   \n",
       "16           SAT Calculator Hacks: TI-84 Tips & Tricks   \n",
       "17       3 SAT Math Strategies to Raise Your SAT Score   \n",
       "18                      3 Ways To Cheat On Any Test!!!   \n",
       "19   Algebra Shortcut Trick  - how to solve equatio...   \n",
       "20   Solving a more complicated equation | Linear e...   \n",
       "21   Algebra - Solving Systems of Equations - Elimi...   \n",
       "22                    How To Solve Any Physics Problem   \n",
       "23   Understanding steps when solving equations | L...   \n",
       "24   Algebra Basics: Solving Basic Equations Part 2...   \n",
       "25   Algebra Basics: Solving Basic Equations Part 1...   \n",
       "26                     How to Solve a Formula Equation   \n",
       "27   Introduction to solving an equation with varia...   \n",
       "28   Algebra: Linear equations 1 | Linear equations...   \n",
       "29                       9 - SAT Math Review: Geometry   \n",
       "..                                                 ...   \n",
       "536  Polynomial Functions Graphing - Multiplicity, ...   \n",
       "537                           Polynomial Graphs Part 1   \n",
       "538  sketch the graph of polynomials using zeros, e...   \n",
       "539         Understanding Repeated Roots (Polynomials)   \n",
       "540                          How to Graph a Polynomial   \n",
       "541   Graphing the polynomial function f(x)=x^3-x^2-6x   \n",
       "542  Factoring 5th degree polynomial to find real z...   \n",
       "543      Pre-Calculus - Graphing a polynomial function   \n",
       "544  How to Find the Equations of a Polynomial Func...   \n",
       "545  Ex:  Solve a Polynomial Equation Using a Graph...   \n",
       "546      Manipulating and solving a quadratic equation   \n",
       "547          Algebra - Quadratic Functions (Parabolas)   \n",
       "548  ❤︎² How to Solve Quadratic Equations by Factor...   \n",
       "549              Manipulating the Roots of a Quadratic   \n",
       "550  Solving Equilibrium Problems with the Quadrati...   \n",
       "551  Manipulating Linear, Quadratic & Cubic Identities   \n",
       "552  SAT Khan Academy Solving Manipulating Quadrati...   \n",
       "553  Quadratic Formula – How to derive the quadrati...   \n",
       "554  Solving a Quadratic-Quadratic system using Eli...   \n",
       "555  How to Manipulate an Equation to Solve Using t...   \n",
       "556  Solve Quadratic Equations using Quadratic Formula   \n",
       "557  Find Roots of Quadratic Equation Using Quadrat...   \n",
       "558  How To Find The Nature Of The Roots Of Quadrat...   \n",
       "559  How to use the quadratic formula | Polynomial ...   \n",
       "560                     Deriving the Quadratic Formula   \n",
       "561  Discriminant of quadratic equations | Polynomi...   \n",
       "562  The Quadratic Formula: How to Use the Discrimi...   \n",
       "563  Relationship between roots and coefficients of...   \n",
       "564  Example: Complex roots for a quadratic | Algeb...   \n",
       "565  Quadratic formula (proof) | Quadratic equation...   \n",
       "\n",
       "                                           description           id  Label  \n",
       "0    This math video tutorial provides a basic over...  grnP3mduZkM      1  \n",
       "1    This video gives an overview of Algebra and in...  NybHckSEQBI      1  \n",
       "2    This is 1 of 4 videos I custom made for an edu...  6KtQrCP01OE      1  \n",
       "3    Hi Algebrinos! As we progress with our problem...  DJMH2F3GuIc      0  \n",
       "4    This video shows students how to solve simple ...  l3XzepN03KQ      0  \n",
       "5    This video introduces students to polynomials ...  ffLLmV4mZwU      0  \n",
       "6    Master Algebra the easiest way without even Le...  V3dFHt9p5W8      1  \n",
       "7    This video introduces the Distributive Propert...  v-6MShC82ow      0  \n",
       "8    Linear equations can be used to solve many typ...  8eXb-6wQUks      1  \n",
       "9    Hack your way to a better score on the Math se...  Rqmtjl_c-uo      1  \n",
       "10   SAT: Study and Triumph | Being able to simplif...  xfEyUWwZTIA      0  \n",
       "11   SAT: Study and Triumph | The calculator is all...  lt2iVVMhHPc      1  \n",
       "12   SAT Math Prep, Tricks, Strategies and Tips htt...  SloQxSB0eIM      1  \n",
       "13   SAT: Study and Triumph | You may know that the...  0mxPVCeB6m4      0  \n",
       "14   Studying for the upcoming ACT exam? Click here...  mHX9yKFBQsM      0  \n",
       "15   Looking for last minute SAT test tips? Procras...  hxwv_BHABAE      0  \n",
       "16   Looking for a quick way to improve your SAT ma...  jxNuBiCeSGk      1  \n",
       "17   Learn the top three SAT math strategies to rai...  pXFrzULJc7Y      1  \n",
       "18   The following are 3 simple tricks you can do t...  N9BhVTRDPVc      0  \n",
       "19   Solve algebra equations easily with no problem...  3H7385duSpA      0  \n",
       "20   This example demonstrates how we solve an equa...  XoEn1LfVoTo      1  \n",
       "21   To \"eliminate\" may make you think of the Termi...  tphSgpilNv8      0  \n",
       "22   Learn five simple steps in five minutes! In th...  YocWuzi4JhY      0  \n",
       "23   Practice this lesson yourself on KhanAcademy.o...  LzYJVsvqS50      0  \n",
       "24   This video shows students how to solve simple ...  Qyd_v3DGzTM      0  \n",
       "25   This video shows students how to solve simple ...  l3XzepN03KQ      0  \n",
       "26   TabletClass Math http://www.tabletclass.com co...  Abi-3-_EItI      0  \n",
       "27   Sal solves the equation 2x + 3 = 5x - 2. Pract...  f15zA0PhSek      1  \n",
       "28   Equations of the form AX=B Watch the next less...  bAerID24QJ0      0  \n",
       "29   Use promo code: \"YouTubeGuru\" for 10% off your...  Vktpqe-OST8      1  \n",
       "..                                                 ...          ...    ...  \n",
       "536  This algebra 2 and precalculus video tutorial ...  q6vgQEZuNKk      1  \n",
       "537  I introduce polynomial functions and give exam...  of2OG5NNNIo      1  \n",
       "538                                                NaN  VSP32ns3Ez4      1  \n",
       "539  This video follows from \"Graphing ~ Polynomial...  honyxJPl0-0      1  \n",
       "540  TabletClass Math http://www.tabletclass.com co...  b1u6DM2UhZ8      1  \n",
       "541  This video shows an example of graphing a poly...  Op3OP_fHrRE      1  \n",
       "542                         Watch the next lesson: ...  mekBhhFWC9c      1  \n",
       "543  This video covers how to sketch a graph of a p...  en2ctMSVNEI      1  \n",
       "544  Review How to Find the Equations of a Polynomi...  Mp55wMhgHtM      0  \n",
       "545  This video explains how a ti84 or ti83 can be ...  CJ-bVSwEhqw      0  \n",
       "546  Solving a quadratic equation needing simplific...  jsNlS9AlH-U      1  \n",
       "547  This lesson includes the basics of graphing th...  nLVwpHXGgX0      0  \n",
       "548  MIT grad shows how to solve any quadratic equa...  IKyUuvulIbk      1  \n",
       "549  More resources available at www.misterwootube....  elzZTsZHxEE      1  \n",
       "550  Having problems with chemical equilibrium and ...  wDyZrIu6MzA      0  \n",
       "551                                                NaN  -BO-qDbAQqA      1  \n",
       "552  Watch me solve Manipulating Quadratic and Expo...  e8K2kiTGYu8      1  \n",
       "553  This video will teach you how to derive the qu...  ccQjkBQ44aY      0  \n",
       "554                                                NaN  sTEPKLWo4ew      0  \n",
       "555  Subscribe for new videos: https://www.youtube....  Itcd0ZcXubY      1  \n",
       "556  Visit http://MathMeeting.com for Free videos o...  3ayhvAI3IeY      1  \n",
       "557  Learn how to find roots of quadratic equation ...  dPFFAeSExIs      0  \n",
       "558  Let's learn how to find the nature of the root...  f9hvtx8k1Rk      0  \n",
       "559  Introduction to using the quadratic formula. P...  i7idZfS8t8w      1  \n",
       "560  Many people know how to use the quadratic form...  DdUx_7B00kM      1  \n",
       "561  Discriminant of Quadratic Equations Practice t...  JBSDQLZtjFo      1  \n",
       "562  Mahalo math expert Allison Moffett shows you h...  tGH0xcT8q90      1  \n",
       "563  Go to http://www.examsolutions.net/ for the in...  Iy6WBgm_2us      1  \n",
       "564  Complex Roots from the Quadratic Formula Pract...  dnjK4DPqh0k      0  \n",
       "565  Deriving the quadratic formula by completing t...  mDmRYfma9C0      1  \n",
       "\n",
       "[566 rows x 5 columns]"
      ]
     },
     "execution_count": 3,
     "metadata": {},
     "output_type": "execute_result"
    }
   ],
   "source": [
    "data"
   ]
  },
  {
   "cell_type": "code",
   "execution_count": 4,
   "metadata": {
    "collapsed": true
   },
   "outputs": [],
   "source": [
    "data[\"query\"] = data[\"query\"].apply(lambda x: '' if x is np.nan else x)"
   ]
  },
  {
   "cell_type": "code",
   "execution_count": 5,
   "metadata": {
    "collapsed": true
   },
   "outputs": [],
   "source": [
    "data[\"title\"] = data[\"title\"].apply(lambda x: '' if x is np.nan else x)"
   ]
  },
  {
   "cell_type": "code",
   "execution_count": 6,
   "metadata": {
    "collapsed": true
   },
   "outputs": [],
   "source": [
    "data[\"description\"] = data[\"description\"].apply(lambda x: '' if x is np.nan else x)"
   ]
  },
  {
   "cell_type": "code",
   "execution_count": 7,
   "metadata": {
    "collapsed": true
   },
   "outputs": [],
   "source": [
    "MAX_NB_WORDS = 20000\n",
    "EMBEDDING_DIM = 100\n",
    "MAX_SEQUENCE_LENGTH = 100"
   ]
  },
  {
   "cell_type": "code",
   "execution_count": 8,
   "metadata": {},
   "outputs": [
    {
     "name": "stderr",
     "output_type": "stream",
     "text": [
      "/Users/chiragmahapatra/miniconda3/envs/math_bot/lib/python3.6/site-packages/keras/preprocessing/text.py:139: UserWarning: The `nb_words` argument in `Tokenizer` has been renamed `num_words`.\n",
      "  warnings.warn('The `nb_words` argument in `Tokenizer` '\n"
     ]
    }
   ],
   "source": [
    "tokenizer = Tokenizer(nb_words=MAX_NB_WORDS)"
   ]
  },
  {
   "cell_type": "code",
   "execution_count": 9,
   "metadata": {
    "collapsed": true
   },
   "outputs": [],
   "source": [
    "texts = pd.concat((data['query'], data['title'], data['description'])) "
   ]
  },
  {
   "cell_type": "code",
   "execution_count": 10,
   "metadata": {},
   "outputs": [
    {
     "data": {
      "text/plain": [
       "(1698,)"
      ]
     },
     "execution_count": 10,
     "metadata": {},
     "output_type": "execute_result"
    }
   ],
   "source": [
    "texts.shape"
   ]
  },
  {
   "cell_type": "code",
   "execution_count": 11,
   "metadata": {
    "collapsed": true
   },
   "outputs": [],
   "source": [
    "tokenizer.fit_on_texts(texts)"
   ]
  },
  {
   "cell_type": "code",
   "execution_count": 12,
   "metadata": {
    "collapsed": true
   },
   "outputs": [],
   "source": [
    "query_sequences = tokenizer.texts_to_sequences(data['query'])"
   ]
  },
  {
   "cell_type": "code",
   "execution_count": 13,
   "metadata": {
    "collapsed": true
   },
   "outputs": [],
   "source": [
    "title_sequences = tokenizer.texts_to_sequences(data['title'])"
   ]
  },
  {
   "cell_type": "code",
   "execution_count": 14,
   "metadata": {
    "collapsed": true
   },
   "outputs": [],
   "source": [
    "desc_sequences = tokenizer.texts_to_sequences(data['description'])"
   ]
  },
  {
   "cell_type": "code",
   "execution_count": 15,
   "metadata": {
    "collapsed": true
   },
   "outputs": [],
   "source": [
    "query_data = pad_sequences(query_sequences, maxlen=MAX_SEQUENCE_LENGTH)"
   ]
  },
  {
   "cell_type": "code",
   "execution_count": 16,
   "metadata": {
    "collapsed": true
   },
   "outputs": [],
   "source": [
    "title_data = pad_sequences(title_sequences, maxlen=MAX_SEQUENCE_LENGTH)"
   ]
  },
  {
   "cell_type": "code",
   "execution_count": 17,
   "metadata": {
    "collapsed": true
   },
   "outputs": [],
   "source": [
    "desc_data = pad_sequences(desc_sequences, maxlen=MAX_SEQUENCE_LENGTH)"
   ]
  },
  {
   "cell_type": "code",
   "execution_count": 18,
   "metadata": {
    "collapsed": true
   },
   "outputs": [],
   "source": [
    "labels = np.array(data['Label'])"
   ]
  },
  {
   "cell_type": "code",
   "execution_count": 19,
   "metadata": {},
   "outputs": [
    {
     "name": "stdout",
     "output_type": "stream",
     "text": [
      "Found 1965 unique tokens.\n"
     ]
    }
   ],
   "source": [
    "word_index = tokenizer.word_index\n",
    "print('Found %s unique tokens.' % len(word_index))"
   ]
  },
  {
   "cell_type": "code",
   "execution_count": 20,
   "metadata": {
    "collapsed": true
   },
   "outputs": [],
   "source": [
    "embeddings_index = {}\n",
    "f = open('glove.6B.100d.txt')\n",
    "for line in f:\n",
    "    values = line.split()\n",
    "    word = values[0]\n",
    "    coefs = np.asarray(values[1:], dtype='float32')\n",
    "    embeddings_index[word] = coefs\n",
    "f.close()"
   ]
  },
  {
   "cell_type": "code",
   "execution_count": 21,
   "metadata": {
    "collapsed": true
   },
   "outputs": [],
   "source": [
    "embedding_matrix_1 = np.random.random((len(word_index) + 1, EMBEDDING_DIM))\n",
    "for word, i in word_index.items():\n",
    "    embedding_vector = embeddings_index.get(word)\n",
    "    if embedding_vector is not None:\n",
    "        # words not found in embedding index will be all-zeros.\n",
    "        embedding_matrix_1[i] = embedding_vector"
   ]
  },
  {
   "cell_type": "code",
   "execution_count": 22,
   "metadata": {
    "collapsed": true
   },
   "outputs": [],
   "source": [
    "embedding_matrix_2 = np.random.random((len(word_index) + 1, EMBEDDING_DIM))\n",
    "for word, i in word_index.items():\n",
    "    embedding_vector = embeddings_index.get(word)\n",
    "    if embedding_vector is not None:\n",
    "        # words not found in embedding index will be all-zeros.\n",
    "        embedding_matrix_2[i] = embedding_vector"
   ]
  },
  {
   "cell_type": "code",
   "execution_count": 23,
   "metadata": {
    "collapsed": true
   },
   "outputs": [],
   "source": [
    "embedding_matrix_3 = np.random.random((len(word_index) + 1, EMBEDDING_DIM))\n",
    "for word, i in word_index.items():\n",
    "    embedding_vector = embeddings_index.get(word)\n",
    "    if embedding_vector is not None:\n",
    "        # words not found in embedding index will be all-zeros.\n",
    "        embedding_matrix_3[i] = embedding_vector"
   ]
  },
  {
   "cell_type": "code",
   "execution_count": 24,
   "metadata": {
    "collapsed": true
   },
   "outputs": [],
   "source": [
    "embedding_layer_1 = Embedding(len(word_index) + 1,\n",
    "                            EMBEDDING_DIM,\n",
    "                            weights=[embedding_matrix_1],\n",
    "                            input_length=MAX_SEQUENCE_LENGTH,\n",
    "                            trainable=True)\n",
    "\n",
    "sequence_input_1 = Input(shape=(MAX_SEQUENCE_LENGTH,), dtype='int32')\n",
    "embedded_sequences_1 = embedding_layer_1(sequence_input_1)\n",
    "l_cov1_1= Conv1D(128, 5, activation='relu')(embedded_sequences_1)\n",
    "l_pool1_1 = MaxPooling1D(5)(l_cov1_1)\n",
    "l_dropout1_1 = Dropout(0.2)(l_pool1_1)\n",
    "l_flat_1 = Flatten()(l_dropout1_1)"
   ]
  },
  {
   "cell_type": "code",
   "execution_count": 25,
   "metadata": {
    "collapsed": true
   },
   "outputs": [],
   "source": [
    "embedding_layer_2 = Embedding(len(word_index) + 1,\n",
    "                            EMBEDDING_DIM,\n",
    "                            weights=[embedding_matrix_2],\n",
    "                            input_length=MAX_SEQUENCE_LENGTH,\n",
    "                            trainable=True)\n",
    "\n",
    "sequence_input_2 = Input(shape=(MAX_SEQUENCE_LENGTH,), dtype='int32')\n",
    "embedded_sequences_2 = embedding_layer_2(sequence_input_2)\n",
    "l_cov1_2= Conv1D(128, 5, activation='relu')(embedded_sequences_2)\n",
    "l_pool1_2 = MaxPooling1D(5)(l_cov1_2)\n",
    "l_dropout1_2 = Dropout(0.2)(l_pool1_2)\n",
    "l_flat_2 = Flatten()(l_dropout1_2)"
   ]
  },
  {
   "cell_type": "code",
   "execution_count": 26,
   "metadata": {
    "collapsed": true
   },
   "outputs": [],
   "source": [
    "embedding_layer_3 = Embedding(len(word_index) + 1,\n",
    "                            EMBEDDING_DIM,\n",
    "                            weights=[embedding_matrix_3],\n",
    "                            input_length=MAX_SEQUENCE_LENGTH,\n",
    "                            trainable=True)\n",
    "\n",
    "sequence_input_3 = Input(shape=(MAX_SEQUENCE_LENGTH,), dtype='int32')\n",
    "embedded_sequences_3 = embedding_layer_3(sequence_input_3)\n",
    "l_cov1_3 = Conv1D(128, 5, activation='relu')(embedded_sequences_3)\n",
    "l_pool1_3 = MaxPooling1D(5)(l_cov1_3)\n",
    "l_dropout1_3 = Dropout(0.2)(l_pool1_3)\n",
    "l_flat_3 = Flatten()(l_dropout1_3)"
   ]
  },
  {
   "cell_type": "code",
   "execution_count": 27,
   "metadata": {
    "collapsed": true
   },
   "outputs": [],
   "source": [
    "x = concatenate([l_flat_1, l_flat_2, l_flat_3])"
   ]
  },
  {
   "cell_type": "code",
   "execution_count": 28,
   "metadata": {
    "collapsed": true
   },
   "outputs": [],
   "source": [
    "x = Dense(64, activation='relu')(x)"
   ]
  },
  {
   "cell_type": "code",
   "execution_count": 29,
   "metadata": {
    "collapsed": true
   },
   "outputs": [],
   "source": [
    "main_output = Dense(1, activation='sigmoid', name='main_output')(x)"
   ]
  },
  {
   "cell_type": "code",
   "execution_count": 30,
   "metadata": {
    "collapsed": true
   },
   "outputs": [],
   "source": [
    "model = Model(inputs=[sequence_input_1, sequence_input_2, sequence_input_3], outputs=[main_output])"
   ]
  },
  {
   "cell_type": "code",
   "execution_count": 31,
   "metadata": {
    "collapsed": true
   },
   "outputs": [],
   "source": [
    "checkpoint = ModelCheckpoint('best_model.h5', monitor='val_acc', verbose=1, save_best_only=True, mode='max')\n",
    "callbacks_list = [checkpoint]"
   ]
  },
  {
   "cell_type": "code",
   "execution_count": 32,
   "metadata": {
    "collapsed": true
   },
   "outputs": [],
   "source": [
    "model.compile(loss='binary_crossentropy', optimizer='adam', metrics=['acc'])"
   ]
  },
  {
   "cell_type": "code",
   "execution_count": 33,
   "metadata": {},
   "outputs": [
    {
     "name": "stdout",
     "output_type": "stream",
     "text": [
      "Train on 509 samples, validate on 57 samples\n",
      "Epoch 1/11\n",
      "505/509 [============================>.] - ETA: 0s - loss: 0.7740 - acc: 0.5327Epoch 00000: val_acc improved from -inf to 0.61404, saving model to best_model.h5\n",
      "509/509 [==============================] - 4s - loss: 0.7735 - acc: 0.5324 - val_loss: 0.6526 - val_acc: 0.6140\n",
      "Epoch 2/11\n",
      "505/509 [============================>.] - ETA: 0s - loss: 0.6630 - acc: 0.5842Epoch 00001: val_acc improved from 0.61404 to 0.63158, saving model to best_model.h5\n",
      "509/509 [==============================] - 3s - loss: 0.6645 - acc: 0.5815 - val_loss: 0.6293 - val_acc: 0.6316\n",
      "Epoch 3/11\n",
      "500/509 [============================>.] - ETA: 0s - loss: 0.5993 - acc: 0.6960Epoch 00002: val_acc improved from 0.63158 to 0.63158, saving model to best_model.h5\n",
      "509/509 [==============================] - 3s - loss: 0.6008 - acc: 0.6955 - val_loss: 0.6399 - val_acc: 0.6316\n",
      "Epoch 4/11\n",
      "500/509 [============================>.] - ETA: 0s - loss: 0.4628 - acc: 0.7940Epoch 00003: val_acc did not improve\n",
      "509/509 [==============================] - 3s - loss: 0.4646 - acc: 0.7898 - val_loss: 0.6724 - val_acc: 0.5789\n",
      "Epoch 5/11\n",
      "500/509 [============================>.] - ETA: 0s - loss: 0.3532 - acc: 0.8860Epoch 00004: val_acc did not improve\n",
      "509/509 [==============================] - 3s - loss: 0.3519 - acc: 0.8861 - val_loss: 0.8437 - val_acc: 0.6140\n",
      "Epoch 6/11\n",
      "505/509 [============================>.] - ETA: 0s - loss: 0.2821 - acc: 0.8891Epoch 00005: val_acc did not improve\n",
      "509/509 [==============================] - 3s - loss: 0.2817 - acc: 0.8900 - val_loss: 0.6632 - val_acc: 0.6140\n",
      "Epoch 7/11\n",
      "505/509 [============================>.] - ETA: 0s - loss: 0.2283 - acc: 0.9208Epoch 00006: val_acc did not improve\n",
      "509/509 [==============================] - 3s - loss: 0.2268 - acc: 0.9214 - val_loss: 0.7532 - val_acc: 0.6140\n",
      "Epoch 8/11\n",
      "505/509 [============================>.] - ETA: 0s - loss: 0.1737 - acc: 0.9366Epoch 00007: val_acc did not improve\n",
      "509/509 [==============================] - 5s - loss: 0.1748 - acc: 0.9352 - val_loss: 0.7490 - val_acc: 0.5439\n",
      "Epoch 9/11\n",
      "500/509 [============================>.] - ETA: 0s - loss: 0.1695 - acc: 0.9360Epoch 00008: val_acc did not improve\n",
      "509/509 [==============================] - 5s - loss: 0.1698 - acc: 0.9352 - val_loss: 0.8643 - val_acc: 0.5965\n",
      "Epoch 10/11\n",
      "500/509 [============================>.] - ETA: 0s - loss: 0.1378 - acc: 0.9480Epoch 00009: val_acc did not improve\n",
      "509/509 [==============================] - 4s - loss: 0.1373 - acc: 0.9489 - val_loss: 1.0679 - val_acc: 0.6316\n",
      "Epoch 11/11\n",
      "505/509 [============================>.] - ETA: 0s - loss: 0.1290 - acc: 0.9386Epoch 00010: val_acc did not improve\n",
      "509/509 [==============================] - 4s - loss: 0.1281 - acc: 0.9391 - val_loss: 1.0915 - val_acc: 0.6140\n"
     ]
    },
    {
     "data": {
      "text/plain": [
       "<keras.callbacks.History at 0x11aed2d30>"
      ]
     },
     "execution_count": 33,
     "metadata": {},
     "output_type": "execute_result"
    }
   ],
   "source": [
    "model.fit([query_data, title_data, desc_data], [labels], epochs=11, batch_size=5, callbacks=callbacks_list,\n",
    "          validation_split=0.1)"
   ]
  },
  {
   "cell_type": "code",
   "execution_count": 56,
   "metadata": {},
   "outputs": [
    {
     "data": {
      "text/plain": [
       "(566,)"
      ]
     },
     "execution_count": 56,
     "metadata": {},
     "output_type": "execute_result"
    }
   ],
   "source": [
    "labels.shape"
   ]
  },
  {
   "cell_type": "code",
   "execution_count": 34,
   "metadata": {
    "collapsed": true
   },
   "outputs": [],
   "source": [
    "pickle.dump(tokenizer, open('tokenizer.p', 'wb'))"
   ]
  },
  {
   "cell_type": "code",
   "execution_count": 36,
   "metadata": {
    "collapsed": true
   },
   "outputs": [],
   "source": []
  },
  {
   "cell_type": "code",
   "execution_count": null,
   "metadata": {
    "collapsed": true
   },
   "outputs": [],
   "source": []
  }
 ],
 "metadata": {
  "kernelspec": {
   "display_name": "Python 3",
   "language": "python",
   "name": "python3"
  },
  "language_info": {
   "codemirror_mode": {
    "name": "ipython",
    "version": 3
   },
   "file_extension": ".py",
   "mimetype": "text/x-python",
   "name": "python",
   "nbconvert_exporter": "python",
   "pygments_lexer": "ipython3",
   "version": "3.6.1"
  }
 },
 "nbformat": 4,
 "nbformat_minor": 2
}
